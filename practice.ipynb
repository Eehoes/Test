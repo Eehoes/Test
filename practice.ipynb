{
 "cells": [
  {
   "cell_type": "code",
   "execution_count": 5,
   "metadata": {},
   "outputs": [
    {
     "name": "stdout",
     "output_type": "stream",
     "text": [
      "함수가 호출되었습니다.\n",
      "\n",
      "1 \n",
      "함수가 호출되었습니다.\n",
      "\n",
      "2 \n",
      "함수가 호출되었습니다.\n",
      "\n",
      "7 \n",
      "함수가 호출되었습니다.\n",
      "\n",
      "6 \n",
      "함수가 호출되었습니다.\n",
      "\n",
      "8 \n",
      "함수가 호출되었습니다.\n",
      "\n",
      "3 \n",
      "함수가 호출되었습니다.\n",
      "\n",
      "4 \n",
      "함수가 호출되었습니다.\n",
      "\n",
      "5 \n"
     ]
    }
   ],
   "source": [
    "# DFS 만들기\n",
    "def DFS(graph, v, visited) :\n",
    "    visited[v] = True # 방문한 곳은 True 처리\n",
    "    print('함수가 호출되었습니다.')\n",
    "    print()\n",
    "    print(v, end=' ') # v 는 그래프의 어떤 부분인지, 예를 들어 1,2,3,4,5~ 의 그래프가 있으면 그 중 하나를 v 라고 할 수 있음.\n",
    "    print()\n",
    "    for i in graph[v] :\n",
    "        # 그래프 내부에서 그 노드를 방문하는 과정\n",
    "        # 재귀적으로 방문\n",
    "        if not visited[i] :\n",
    "            DFS(graph, i, visited)\n",
    "            \n",
    "            \n",
    "graph = [\n",
    "    [],\n",
    "    [2,3,8],\n",
    "    [1,7],\n",
    "    [1,4,5],\n",
    "    [3,5],\n",
    "    [3,4],\n",
    "    [7],\n",
    "    [2,6,8],\n",
    "    [1,7]\n",
    "]\n",
    "\n",
    "# 각 노드가 방문된 정보를 리스트 자료형으로 표현(1차원 리스트)\n",
    "visited = [False] * 9\n",
    "\n",
    "DFS(graph, 1, visited)\n",
    "\n",
    "    "
   ]
  },
  {
   "cell_type": "code",
   "execution_count": 6,
   "metadata": {},
   "outputs": [
    {
     "name": "stdout",
     "output_type": "stream",
     "text": [
      "1 2 7 6 8 3 4 5 "
     ]
    }
   ],
   "source": [
    "def DFS(graph, v, visited) :\n",
    "    visited[v] = True \n",
    "    \n",
    "    print(v, end=' ')\n",
    "    \n",
    "    for i in graph[v] :\n",
    "        if not visited[i] :\n",
    "            DFS(graph,i,visited)\n",
    "            \n",
    "graph = [\n",
    "    [],\n",
    "    [2,3,8],\n",
    "    [1,7],\n",
    "    [1,4,5],\n",
    "    [3,5],\n",
    "    [3,4],\n",
    "    [7],\n",
    "    [2,6,8],\n",
    "    [1,7]\n",
    "]\n",
    "\n",
    "# 각 노드가 방문된 정보를 리스트 자료형으로 표현(1차원 리스트)\n",
    "visited = [False] * 9\n",
    "\n",
    "DFS(graph, 1, visited)\n",
    "\n",
    "    \n"
   ]
  }
 ],
 "metadata": {
  "kernelspec": {
   "display_name": "Python 3",
   "language": "python",
   "name": "python3"
  },
  "language_info": {
   "codemirror_mode": {
    "name": "ipython",
    "version": 3
   },
   "file_extension": ".py",
   "mimetype": "text/x-python",
   "name": "python",
   "nbconvert_exporter": "python",
   "pygments_lexer": "ipython3",
   "version": "3.11.7"
  }
 },
 "nbformat": 4,
 "nbformat_minor": 2
}
